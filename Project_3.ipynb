{
 "cells": [
  {
   "cell_type": "markdown",
   "id": "5fbef3fd",
   "metadata": {},
   "source": [
    "# Downloading the Files"
   ]
  },
  {
   "cell_type": "code",
   "execution_count": 7,
   "id": "ef333d6e",
   "metadata": {},
   "outputs": [],
   "source": [
    "import pandas as pd"
   ]
  },
  {
   "cell_type": "code",
   "execution_count": 8,
   "id": "0a1d1a37",
   "metadata": {},
   "outputs": [],
   "source": [
    "title_basics=\"https://datasets.imdbws.com/title.basics.tsv.gz\"\n",
    "title_ratings = \"https://datasets.imdbws.com/title.ratings.tsv.gz\"\n",
    "title_akas = \"https://datasets.imdbws.com/title.akas.tsv.gz\""
   ]
  },
  {
   "cell_type": "markdown",
   "id": "16244a05",
   "metadata": {},
   "source": [
    "# Loading TSV's with Pandas"
   ]
  },
  {
   "cell_type": "code",
   "execution_count": null,
   "id": "dff38ab6",
   "metadata": {},
   "outputs": [],
   "source": [
    "title_basics = pd.read_csv(title_basics, sep='\\t', low_memory=False)\n",
    "title_ratings = pd.read_csv(title_ratings, sep='\\t', low_memory=False)\n",
    "title_akas = pd.read_csv(title_akas, sep='\\t', low_memory=False)"
   ]
  },
  {
   "cell_type": "markdown",
   "id": "511dcf37",
   "metadata": {},
   "source": [
    "# Handling \\N Placeholder Values"
   ]
  },
  {
   "cell_type": "code",
   "execution_count": null,
   "id": "1fde0359",
   "metadata": {},
   "outputs": [],
   "source": []
  },
  {
   "cell_type": "code",
   "execution_count": null,
   "id": "9ef75720",
   "metadata": {},
   "outputs": [],
   "source": []
  },
  {
   "cell_type": "markdown",
   "id": "72799440",
   "metadata": {},
   "source": [
    "# Required Preprocessing - Details\n",
    "\n",
    "## Filtering/Cleaning Steps:"
   ]
  },
  {
   "cell_type": "markdown",
   "id": "05b8fce7",
   "metadata": {},
   "source": [
    "### Title Basics:\n",
    "\n",
    "+ Replace \"\\N\" with np.nan\n",
    "\n",
    "+ Eliminate movies that are null for runtimeMinutes\n",
    "\n",
    "+ Eliminate movies that are null for genre\n",
    "\n",
    "+ keep only titleType==Movie\n",
    "\n",
    "+ keep startYear 2000-2022\n",
    "\n",
    "+ Eliminate movies that include \"Documentary\" in genre (see tip below)\n",
    "\n",
    "+ Keep only US movies (Use AKAs table, see \"Filtering one dataframe based on another\" section below)"
   ]
  },
  {
   "cell_type": "code",
   "execution_count": null,
   "id": "032f1a66",
   "metadata": {},
   "outputs": [],
   "source": []
  },
  {
   "cell_type": "code",
   "execution_count": null,
   "id": "d45a5c7c",
   "metadata": {},
   "outputs": [],
   "source": []
  },
  {
   "cell_type": "code",
   "execution_count": null,
   "id": "82d165ce",
   "metadata": {},
   "outputs": [],
   "source": []
  },
  {
   "cell_type": "markdown",
   "id": "29af47e9",
   "metadata": {},
   "source": [
    "### AKAs:\n",
    "\n",
    "+ keep only US movies.\n",
    "\n",
    "+ Replace \"\\N\" with np.nan"
   ]
  },
  {
   "cell_type": "code",
   "execution_count": null,
   "id": "2dbf2217",
   "metadata": {},
   "outputs": [],
   "source": []
  },
  {
   "cell_type": "code",
   "execution_count": null,
   "id": "e36df538",
   "metadata": {},
   "outputs": [],
   "source": []
  },
  {
   "cell_type": "markdown",
   "id": "c7bb5b48",
   "metadata": {},
   "source": [
    "### Ratings:\n",
    "\n",
    "+ Replace \"\\N\" with np.nan (if any)\n",
    "\n",
    "+ Keep only US movies (Use AKAs table, see \"Filtering one dataframe based on another\" section below)"
   ]
  },
  {
   "cell_type": "code",
   "execution_count": null,
   "id": "9f0e4c03",
   "metadata": {},
   "outputs": [],
   "source": []
  },
  {
   "cell_type": "code",
   "execution_count": null,
   "id": "2a678007",
   "metadata": {},
   "outputs": [],
   "source": []
  },
  {
   "cell_type": "markdown",
   "id": "3c2274ed",
   "metadata": {},
   "source": [
    "# Creating a \"Data\" folder."
   ]
  },
  {
   "cell_type": "code",
   "execution_count": null,
   "id": "7e158bf8",
   "metadata": {},
   "outputs": [],
   "source": [
    "## Save current dataframe to file.\n",
    "title_basics.to_csv(\"Data/title_basics.csv.gz\",compression='gzip',index=False)\n",
    "title_ratings.to_csv(\"Data/title.ratings.csv.gz\",compression='gzip',index=False)\n",
    "title_akas.to_csv(\"Data/title.akas.csv.gz\",compression='gzip',index=False)"
   ]
  },
  {
   "cell_type": "code",
   "execution_count": null,
   "id": "9fbb0198",
   "metadata": {},
   "outputs": [],
   "source": [
    "# Open saved file and preview again\n",
    "basics = pd.read_csv(\"Data/title_basics.csv.gz\", low_memory = False)\n",
    "basics.head()"
   ]
  },
  {
   "cell_type": "code",
   "execution_count": null,
   "id": "4840a15f",
   "metadata": {},
   "outputs": [],
   "source": [
    "title_ratings = pd.read_csv(\"Data/title.ratings.csv.gz\", low_memory = False)\n",
    "title_ratings.head()"
   ]
  },
  {
   "cell_type": "code",
   "execution_count": null,
   "id": "6aef229d",
   "metadata": {},
   "outputs": [],
   "source": [
    "basics = pd.read_csv(\"Data/title.akas.csv.gz\", low_memory = False)\n",
    "title_akas.head()"
   ]
  },
  {
   "cell_type": "code",
   "execution_count": null,
   "id": "45d3e2f3",
   "metadata": {},
   "outputs": [],
   "source": []
  },
  {
   "cell_type": "code",
   "execution_count": null,
   "id": "835c7ef0",
   "metadata": {},
   "outputs": [],
   "source": []
  },
  {
   "cell_type": "code",
   "execution_count": null,
   "id": "b2309f9c",
   "metadata": {},
   "outputs": [],
   "source": []
  }
 ],
 "metadata": {
  "kernelspec": {
   "display_name": "Python (dojo-env)",
   "language": "python",
   "name": "dojo-env"
  },
  "language_info": {
   "codemirror_mode": {
    "name": "ipython",
    "version": 3
   },
   "file_extension": ".py",
   "mimetype": "text/x-python",
   "name": "python",
   "nbconvert_exporter": "python",
   "pygments_lexer": "ipython3",
   "version": "3.11.5"
  }
 },
 "nbformat": 4,
 "nbformat_minor": 5
}
